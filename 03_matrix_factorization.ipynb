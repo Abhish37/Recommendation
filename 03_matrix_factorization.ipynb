{
 "cells": [
  {
   "cell_type": "markdown",
   "source": [
    "# 03 Matrix Factorization (SVD)\n",
    "SVD-based recommendations."
   ]
  },
  {
   "cell_type": "code",
   "source": [
    "import pandas as pd\n",
    "from surprise import Dataset, Reader, SVD\n",
    "from surprise.model_selection import train_test_split\n",
    "from surprise import accuracy\n",
    "\n",
    "inter = pd.read_csv('../data/interactions.csv')\n",
    "reader = Reader(rating_scale=(1, 5))\n",
    "data = Dataset.load_from_df(inter[['user_id', 'product_id', 'rating']], reader)\n",
    "trainset, testset = train_test_split(data, test_size=0.2)\n",
    "\n",
    "algo = SVD()\n",
    "algo.fit(trainset)\n",
    "predictions = algo.test(testset)\n",
    "print('SVD RMSE:', accuracy.rmse(predictions))"
   ],
   "metadata": {},
   "execution_count": null,
   "outputs": []
  }
 ]
}