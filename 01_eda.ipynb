{
 "cells": [
  {
   "cell_type": "markdown",
   "source": [
    "# 01 EDA\n",
    "Explore user-item interactions and products."
   ]
  },
  {
   "cell_type": "code",
   "source": [
    "import pandas as pd\n",
    "import matplotlib.pyplot as plt\n",
    "from src.utils import load_interactions, load_products\n",
    "\n",
    "inter = load_interactions('../data/interactions.csv')\n",
    "prod = load_products('../data/products.csv')\n",
    "print(inter.head())\n",
    "print(prod.head())\n",
    "\n",
    "# User activity\n",
    "inter['user_id'].value_counts().hist(bins=20)\n",
    "plt.title('User Activity Distribution')\n",
    "plt.xlabel('Interactions per User')\n",
    "plt.ylabel('Count')\n",
    "plt.show()\n",
    "\n",
    "# Product popularity\n",
    "inter['product_id'].value_counts().hist(bins=20)\n",
    "plt.title('Product Popularity Distribution')\n",
    "plt.xlabel('Interactions per Product')\n",
    "plt.ylabel('Count')\n",
    "plt.show()"
   ],
   "metadata": {},
   "execution_count": null,
   "outputs": []
  }
 ]
}