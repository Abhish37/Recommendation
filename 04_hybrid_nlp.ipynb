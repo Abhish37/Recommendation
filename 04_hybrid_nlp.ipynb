{
 "cells": [
  {
   "cell_type": "markdown",
   "source": [
    "# 04 Hybrid Model: Collaborative Filtering + NLP\n",
    "Combine SVD predictions with content similarity."
   ]
  },
  {
   "cell_type": "code",
   "source": [
    "import pandas as pd\n",
    "from src.nlp_utils import compute_tfidf_matrix\n",
    "from sklearn.metrics.pairwise import cosine_similarity\n",
    "from surprise import Dataset, Reader, SVD\n",
    "\n",
    "# Load data\n",
    "inter = pd.read_csv('../data/interactions.csv')\n",
    "prod = pd.read_csv('../data/products.csv')\n",
    "\n",
    "# Train SVD\n",
    "reader = Reader(rating_scale=(1, 5))\n",
    "data = Dataset.load_from_df(inter[['user_id', 'product_id', 'rating']], reader)\n",
    "trainset = data.build_full_trainset()\n",
    "algo = SVD()\n",
    "algo.fit(trainset)\n",
    "\n",
    "# NLP content similarity\n",
    "tfidf_matrix, vectorizer = compute_tfidf_matrix(prod['description'])\n",
    "content_sim = cosine_similarity(tfidf_matrix)\n",
    "\n",
    "# Hybrid recommendation for a user\n",
    "def hybrid_recommend(user_id, top_n=5):\n",
    "    user_items = inter[inter['user_id'] == user_id]['product_id'].values\n",
    "    product_scores = {}\n",
    "    for pid in prod['product_id']:\n",
    "        # SVD score\n",
    "        svd_score = algo.predict(user_id, pid).est\n",
    "        # Content-based: max sim to user’s history\n",
    "        idx_pid = prod[prod['product_id'] == pid].index[0]\n",
    "        sim_score = max([content_sim[idx_pid, prod[prod['product_id'] == hist].index[0]] for hist in user_items]) if len(user_items) > 0 else 0\n",
    "        # Hybrid score (weighted sum)\n",
    "        product_scores[pid] = 0.7 * svd_score + 0.3 * sim_score\n",
    "    # Top-N recommendations\n",
    "    recs = sorted(product_scores.items(), key=lambda x: x[1], reverse=True)[:top_n]\n",
    "    return [pid for pid, score in recs]\n",
    "\n",
    "print('Hybrid recommendations for user 1:', hybrid_recommend(1))"
   ],
   "metadata": {},
   "execution_count": null,
   "outputs": []
  }
 ]
}