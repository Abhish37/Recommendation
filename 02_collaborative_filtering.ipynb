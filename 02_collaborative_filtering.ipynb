{
 "cells": [
  {
   "cell_type": "markdown",
   "source": [
    "# 02 Collaborative Filtering\n",
    "User-based and Item-based recommendations."
   ]
  },
  {
   "cell_type": "code",
   "source": [
    "import pandas as pd\n",
    "from surprise import Dataset, Reader, KNNBasic\n",
    "from surprise.model_selection import train_test_split\n",
    "from surprise import accuracy\n",
    "\n",
    "inter = pd.read_csv('../data/interactions.csv')\n",
    "reader = Reader(rating_scale=(1, 5))\n",
    "data = Dataset.load_from_df(inter[['user_id', 'product_id', 'rating']], reader)\n",
    "trainset, testset = train_test_split(data, test_size=0.2)\n",
    "\n",
    "# User-based CF\n",
    "sim_options = {'name': 'cosine', 'user_based': True}\n",
    "algo = KNNBasic(sim_options=sim_options)\n",
    "algo.fit(trainset)\n",
    "predictions = algo.test(testset)\n",
    "print('User-based CF RMSE:', accuracy.rmse(predictions))\n",
    "\n",
    "# Item-based CF\n",
    "sim_options = {'name': 'cosine', 'user_based': False}\n",
    "algo = KNNBasic(sim_options=sim_options)\n",
    "algo.fit(trainset)\n",
    "predictions = algo.test(testset)\n",
    "print('Item-based CF RMSE:', accuracy.rmse(predictions))"
   ],
   "metadata": {},
   "execution_count": null,
   "outputs": []
  }
 ]
}